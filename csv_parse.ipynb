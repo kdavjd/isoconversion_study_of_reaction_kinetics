{
 "cells": [
  {
   "cell_type": "code",
   "execution_count": 1,
   "metadata": {},
   "outputs": [
    {
     "data": {
      "text/html": [
       "<div>\n",
       "<style scoped>\n",
       "    .dataframe tbody tr th:only-of-type {\n",
       "        vertical-align: middle;\n",
       "    }\n",
       "\n",
       "    .dataframe tbody tr th {\n",
       "        vertical-align: top;\n",
       "    }\n",
       "\n",
       "    .dataframe thead th {\n",
       "        text-align: right;\n",
       "    }\n",
       "</style>\n",
       "<table border=\"1\" class=\"dataframe\">\n",
       "  <thead>\n",
       "    <tr style=\"text-align: right;\">\n",
       "      <th></th>\n",
       "      <th>temperature</th>\n",
       "      <th>rate_5</th>\n",
       "      <th>rate_3</th>\n",
       "      <th>rate_10</th>\n",
       "    </tr>\n",
       "  </thead>\n",
       "  <tbody>\n",
       "    <tr>\n",
       "      <th>0</th>\n",
       "      <td>31.23291</td>\n",
       "      <td>100.48009</td>\n",
       "      <td>99.46380</td>\n",
       "      <td>99.62310</td>\n",
       "    </tr>\n",
       "    <tr>\n",
       "      <th>1</th>\n",
       "      <td>32.18783</td>\n",
       "      <td>100.49841</td>\n",
       "      <td>99.47196</td>\n",
       "      <td>99.63159</td>\n",
       "    </tr>\n",
       "    <tr>\n",
       "      <th>2</th>\n",
       "      <td>33.14274</td>\n",
       "      <td>100.49727</td>\n",
       "      <td>99.46862</td>\n",
       "      <td>99.64153</td>\n",
       "    </tr>\n",
       "    <tr>\n",
       "      <th>3</th>\n",
       "      <td>34.09766</td>\n",
       "      <td>100.49974</td>\n",
       "      <td>99.46740</td>\n",
       "      <td>99.65072</td>\n",
       "    </tr>\n",
       "    <tr>\n",
       "      <th>4</th>\n",
       "      <td>35.05257</td>\n",
       "      <td>100.50067</td>\n",
       "      <td>99.46966</td>\n",
       "      <td>99.66333</td>\n",
       "    </tr>\n",
       "  </tbody>\n",
       "</table>\n",
       "</div>"
      ],
      "text/plain": [
       "   temperature     rate_5    rate_3   rate_10\n",
       "0     31.23291  100.48009  99.46380  99.62310\n",
       "1     32.18783  100.49841  99.47196  99.63159\n",
       "2     33.14274  100.49727  99.46862  99.64153\n",
       "3     34.09766  100.49974  99.46740  99.65072\n",
       "4     35.05257  100.50067  99.46966  99.66333"
      ]
     },
     "execution_count": 1,
     "metadata": {},
     "output_type": "execute_result"
    }
   ],
   "source": [
    "import os\n",
    "import pandas as pd\n",
    "import chardet\n",
    "\n",
    "# Specify the line from which the data reading begins\n",
    "START_ROW = 36  # Indexing starts from 0, so the 36th line in the file corresponds to index 35\n",
    "\n",
    "# Specify the element we're interested in\n",
    "ELEMENT = 'NH4'\n",
    "\n",
    "# Specify the heating rates presented in the experimental data and their order\n",
    "# in degrees/minute\n",
    "heating_rates = ['5', '3', '10']\n",
    "\n",
    "# Specify the column names\n",
    "column_names = ['temperature'] + heating_rates\n",
    "\n",
    "# Rename columns according to the desired format\n",
    "new_column_names = ['temperature'] + [f'rate_{rate}' for rate in heating_rates]\n",
    "\n",
    "# Specify the path to the directory\n",
    "folder_path = \"TGA\"\n",
    "\n",
    "# Get all the files in the specified directory\n",
    "file_list = [f for f in os.listdir(folder_path) if os.path.isfile(os.path.join(folder_path, f))]\n",
    "\n",
    "# Check if there are files in the list\n",
    "if not file_list:\n",
    "    raise Exception(\"No files found in the specified directory.\")\n",
    "    \n",
    "# Select the first file from the list that starts with the specified element\n",
    "tga_file = [file for file in file_list if file.startswith(ELEMENT)]\n",
    "\n",
    "# Determine the file encoding\n",
    "with open(os.path.join(folder_path, tga_file[0]), 'rb') as f:\n",
    "    result = chardet.detect(f.read())\n",
    "file_encoding = result['encoding']\n",
    "\n",
    "# Read the data from the CSV file\n",
    "df = pd.read_csv(\n",
    "    os.path.join(folder_path, tga_file[0]),\n",
    "    skiprows=START_ROW,\n",
    "    names=column_names,\n",
    "    delimiter=';',\n",
    "    decimal=',',\n",
    "    encoding=file_encoding,\n",
    "    dtype=str  # Read all data as strings\n",
    ")\n",
    "\n",
    "# Replace commas with periods and convert to numbers\n",
    "df = df.apply(lambda x: pd.to_numeric(x.str.replace(',', '.'), errors='coerce'))\n",
    "\n",
    "# Remove rows with NaN values\n",
    "df.dropna(inplace=True)\n",
    "\n",
    "# Rename the columns to the desired format\n",
    "df.columns = new_column_names\n",
    "\n",
    "# Output the first five rows of data\n",
    "df.head()\n"
   ]
  },
  {
   "cell_type": "code",
   "execution_count": 2,
   "metadata": {},
   "outputs": [
    {
     "data": {
      "text/plain": [
       "[<matplotlib.lines.Line2D at 0x2252b893550>]"
      ]
     },
     "execution_count": 2,
     "metadata": {},
     "output_type": "execute_result"
    },
    {
     "data": {
      "image/png": "[encoded data removed]",
      "text/plain": [
       "<Figure size 640x480 with 1 Axes>"
      ]
     },
     "metadata": {},
     "output_type": "display_data"
    }
   ],
   "source": [
    "import matplotlib.pyplot as plt\n",
    "\n",
    "plt.plot(df['temperature'], df['rate_3'])\n",
    "plt.plot(df['temperature'], df['rate_5'])\n",
    "plt.plot(df['temperature'], df['rate_10'])"
   ]
  },
  {
   "cell_type": "code",
   "execution_count": null,
   "metadata": {},
   "outputs": [],
   "source": [
    "# Specify the filename for the output CSV file\n",
    "output_filename = \"NH4_parse_TGA.csv\"\n",
    "\n",
    "# Convert DataFrame to CSV\n",
    "df.to_csv(os.path.join(folder_path, output_filename), index=False)\n"
   ]
  }
 ],
 "metadata": {
  "kernelspec": {
   "display_name": "Python 3",
   "language": "python",
   "name": "python3"
  },
  "language_info": {
   "codemirror_mode": {
    "name": "ipython",
    "version": 3
   },
   "file_extension": ".py",
   "mimetype": "text/x-python",
   "name": "python",
   "nbconvert_exporter": "python",
   "pygments_lexer": "ipython3",
   "version": "3.9.13"
  },
  "orig_nbformat": 4
 },
 "nbformat": 4,
 "nbformat_minor": 2
}
